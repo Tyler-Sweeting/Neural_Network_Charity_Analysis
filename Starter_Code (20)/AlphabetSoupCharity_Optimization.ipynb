{
 "cells": [
  {
   "cell_type": "code",
   "execution_count": 1,
   "metadata": {},
   "outputs": [
    {
     "data": {
      "text/html": [
       "<div>\n",
       "<style scoped>\n",
       "    .dataframe tbody tr th:only-of-type {\n",
       "        vertical-align: middle;\n",
       "    }\n",
       "\n",
       "    .dataframe tbody tr th {\n",
       "        vertical-align: top;\n",
       "    }\n",
       "\n",
       "    .dataframe thead th {\n",
       "        text-align: right;\n",
       "    }\n",
       "</style>\n",
       "<table border=\"1\" class=\"dataframe\">\n",
       "  <thead>\n",
       "    <tr style=\"text-align: right;\">\n",
       "      <th></th>\n",
       "      <th>EIN</th>\n",
       "      <th>NAME</th>\n",
       "      <th>APPLICATION_TYPE</th>\n",
       "      <th>AFFILIATION</th>\n",
       "      <th>CLASSIFICATION</th>\n",
       "      <th>USE_CASE</th>\n",
       "      <th>ORGANIZATION</th>\n",
       "      <th>STATUS</th>\n",
       "      <th>INCOME_AMT</th>\n",
       "      <th>SPECIAL_CONSIDERATIONS</th>\n",
       "      <th>ASK_AMT</th>\n",
       "      <th>IS_SUCCESSFUL</th>\n",
       "    </tr>\n",
       "  </thead>\n",
       "  <tbody>\n",
       "    <tr>\n",
       "      <th>0</th>\n",
       "      <td>10520599</td>\n",
       "      <td>BLUE KNIGHTS MOTORCYCLE CLUB</td>\n",
       "      <td>T10</td>\n",
       "      <td>Independent</td>\n",
       "      <td>C1000</td>\n",
       "      <td>ProductDev</td>\n",
       "      <td>Association</td>\n",
       "      <td>1</td>\n",
       "      <td>0</td>\n",
       "      <td>N</td>\n",
       "      <td>5000</td>\n",
       "      <td>1</td>\n",
       "    </tr>\n",
       "    <tr>\n",
       "      <th>1</th>\n",
       "      <td>10531628</td>\n",
       "      <td>AMERICAN CHESAPEAKE CLUB CHARITABLE TR</td>\n",
       "      <td>T3</td>\n",
       "      <td>Independent</td>\n",
       "      <td>C2000</td>\n",
       "      <td>Preservation</td>\n",
       "      <td>Co-operative</td>\n",
       "      <td>1</td>\n",
       "      <td>1-9999</td>\n",
       "      <td>N</td>\n",
       "      <td>108590</td>\n",
       "      <td>1</td>\n",
       "    </tr>\n",
       "    <tr>\n",
       "      <th>2</th>\n",
       "      <td>10547893</td>\n",
       "      <td>ST CLOUD PROFESSIONAL FIREFIGHTERS</td>\n",
       "      <td>T5</td>\n",
       "      <td>CompanySponsored</td>\n",
       "      <td>C3000</td>\n",
       "      <td>ProductDev</td>\n",
       "      <td>Association</td>\n",
       "      <td>1</td>\n",
       "      <td>0</td>\n",
       "      <td>N</td>\n",
       "      <td>5000</td>\n",
       "      <td>0</td>\n",
       "    </tr>\n",
       "    <tr>\n",
       "      <th>3</th>\n",
       "      <td>10553066</td>\n",
       "      <td>SOUTHSIDE ATHLETIC ASSOCIATION</td>\n",
       "      <td>T3</td>\n",
       "      <td>CompanySponsored</td>\n",
       "      <td>C2000</td>\n",
       "      <td>Preservation</td>\n",
       "      <td>Trust</td>\n",
       "      <td>1</td>\n",
       "      <td>10000-24999</td>\n",
       "      <td>N</td>\n",
       "      <td>6692</td>\n",
       "      <td>1</td>\n",
       "    </tr>\n",
       "    <tr>\n",
       "      <th>4</th>\n",
       "      <td>10556103</td>\n",
       "      <td>GENETIC RESEARCH INSTITUTE OF THE DESERT</td>\n",
       "      <td>T3</td>\n",
       "      <td>Independent</td>\n",
       "      <td>C1000</td>\n",
       "      <td>Heathcare</td>\n",
       "      <td>Trust</td>\n",
       "      <td>1</td>\n",
       "      <td>100000-499999</td>\n",
       "      <td>N</td>\n",
       "      <td>142590</td>\n",
       "      <td>1</td>\n",
       "    </tr>\n",
       "  </tbody>\n",
       "</table>\n",
       "</div>"
      ],
      "text/plain": [
       "        EIN                                      NAME APPLICATION_TYPE  \\\n",
       "0  10520599              BLUE KNIGHTS MOTORCYCLE CLUB              T10   \n",
       "1  10531628    AMERICAN CHESAPEAKE CLUB CHARITABLE TR               T3   \n",
       "2  10547893        ST CLOUD PROFESSIONAL FIREFIGHTERS               T5   \n",
       "3  10553066            SOUTHSIDE ATHLETIC ASSOCIATION               T3   \n",
       "4  10556103  GENETIC RESEARCH INSTITUTE OF THE DESERT               T3   \n",
       "\n",
       "        AFFILIATION CLASSIFICATION      USE_CASE  ORGANIZATION  STATUS  \\\n",
       "0       Independent          C1000    ProductDev   Association       1   \n",
       "1       Independent          C2000  Preservation  Co-operative       1   \n",
       "2  CompanySponsored          C3000    ProductDev   Association       1   \n",
       "3  CompanySponsored          C2000  Preservation         Trust       1   \n",
       "4       Independent          C1000     Heathcare         Trust       1   \n",
       "\n",
       "      INCOME_AMT SPECIAL_CONSIDERATIONS  ASK_AMT  IS_SUCCESSFUL  \n",
       "0              0                      N     5000              1  \n",
       "1         1-9999                      N   108590              1  \n",
       "2              0                      N     5000              0  \n",
       "3    10000-24999                      N     6692              1  \n",
       "4  100000-499999                      N   142590              1  "
      ]
     },
     "execution_count": 1,
     "metadata": {},
     "output_type": "execute_result"
    }
   ],
   "source": [
    "# Import our dependencies\n",
    "from sklearn.model_selection import train_test_split\n",
    "from sklearn.preprocessing import StandardScaler,OneHotEncoder\n",
    "import pandas as pd\n",
    "import tensorflow as tf\n",
    "\n",
    "#  Import and read the charity_data.csv.\n",
    "import pandas as pd \n",
    "application_df = pd.read_csv(\"charity_data.csv\")\n",
    "application_df.head()"
   ]
  },
  {
   "cell_type": "code",
   "execution_count": 2,
   "metadata": {},
   "outputs": [],
   "source": [
    "# Drop the non-beneficial ID columns, 'EIN' and 'NAME'.\n",
    "application_df = application_df.drop(['EIN', 'NAME'], axis = 1)\n",
    "application_df.head()\n",
    "\n",
    "app_type_counts = application_df.APPLICATION_TYPE.value_counts()\n",
    "# Determine which values to replace if counts are less than ...?\n",
    "replace_application = list(app_type_counts[app_type_counts < 400].index)\n",
    "\n",
    "# Replace in dataframe\n",
    "for app in replace_application:\n",
    "    application_df.APPLICATION_TYPE = application_df.APPLICATION_TYPE.replace(app,\"Other\")\n",
    "\n",
    "class_counts = application_df.CLASSIFICATION.value_counts()\n",
    "\n",
    "# Determine which values to replace if counts are less than ..?\n",
    "replace_class = list(class_counts[class_counts < 1500].index)\n",
    "\n",
    "# Replace in dataframe\n",
    "for cls in replace_class:\n",
    "    application_df.CLASSIFICATION = application_df.CLASSIFICATION.replace(cls,\"Other\")"
   ]
  },
  {
   "cell_type": "code",
   "execution_count": 3,
   "metadata": {},
   "outputs": [],
   "source": [
    "application_cat = application_df.dtypes[application_df.dtypes == \"object\"].index.tolist()"
   ]
  },
  {
   "cell_type": "code",
   "execution_count": 4,
   "metadata": {},
   "outputs": [
    {
     "name": "stderr",
     "output_type": "stream",
     "text": [
      "c:\\Users\\Sweetingt\\anaconda3\\envs\\mlenv\\lib\\site-packages\\sklearn\\utils\\deprecation.py:87: FutureWarning: Function get_feature_names is deprecated; get_feature_names is deprecated in 1.0 and will be removed in 1.2. Please use get_feature_names_out instead.\n",
      "  warnings.warn(msg, category=FutureWarning)\n"
     ]
    }
   ],
   "source": [
    "# Create a OneHotEncoder instance\n",
    "enc = OneHotEncoder(sparse=False)\n",
    "\n",
    "# Fit and transform the OneHotEncoder using the categorical variable list\n",
    "encode_df = pd.DataFrame(enc.fit_transform(application_df[application_cat]))\n",
    "\n",
    "# Add the encoded variable names to the dataframe\n",
    "encode_df.columns = enc.get_feature_names(application_cat)"
   ]
  },
  {
   "cell_type": "code",
   "execution_count": 5,
   "metadata": {},
   "outputs": [
    {
     "name": "stderr",
     "output_type": "stream",
     "text": [
      "c:\\Users\\Sweetingt\\anaconda3\\envs\\mlenv\\lib\\site-packages\\ipykernel_launcher.py:3: FutureWarning: In a future version of pandas all arguments of DataFrame.drop except for the argument 'labels' will be keyword-only\n",
      "  This is separate from the ipykernel package so we can avoid doing imports until\n"
     ]
    }
   ],
   "source": [
    "# Merge one-hot encoded features and drop the originals\n",
    "application_df = application_df.merge(encode_df, left_index = True, right_index = True)\n",
    "application_df = application_df.drop(application_cat,1)"
   ]
  },
  {
   "cell_type": "code",
   "execution_count": 6,
   "metadata": {},
   "outputs": [
    {
     "name": "stderr",
     "output_type": "stream",
     "text": [
      "c:\\Users\\Sweetingt\\anaconda3\\envs\\mlenv\\lib\\site-packages\\ipykernel_launcher.py:3: FutureWarning: In a future version of pandas all arguments of DataFrame.drop except for the argument 'labels' will be keyword-only\n",
      "  This is separate from the ipykernel package so we can avoid doing imports until\n"
     ]
    }
   ],
   "source": [
    "# Split our preprocessed data into our features and target arrays\n",
    "y = application_df[\"IS_SUCCESSFUL\"].values\n",
    "X = application_df.drop([\"IS_SUCCESSFUL\"], 1).values\n",
    "\n",
    "# Split the preprocessed data into a training and testing dataset\n",
    "X_train, X_test, y_train, y_test = train_test_split(X, y, random_state = 42)"
   ]
  },
  {
   "cell_type": "code",
   "execution_count": 7,
   "metadata": {},
   "outputs": [],
   "source": [
    "# Create a StandardScaler instances\n",
    "scaler = StandardScaler()\n",
    "\n",
    "# Fit the StandardScaler\n",
    "X_scaler = scaler.fit(X_train)\n",
    "\n",
    "# Scale the data\n",
    "X_train_scaled = X_scaler.transform(X_train)\n",
    "X_test_scaled = X_scaler.transform(X_test)"
   ]
  },
  {
   "cell_type": "code",
   "execution_count": null,
   "metadata": {},
   "outputs": [],
   "source": []
  },
  {
   "cell_type": "code",
   "execution_count": 14,
   "metadata": {},
   "outputs": [
    {
     "name": "stdout",
     "output_type": "stream",
     "text": [
      "Model: \"sequential_1\"\n",
      "_________________________________________________________________\n",
      " Layer (type)                Output Shape              Param #   \n",
      "=================================================================\n",
      " dense_4 (Dense)             (None, 80)                3520      \n",
      "                                                                 \n",
      " dense_5 (Dense)             (None, 40)                3240      \n",
      "                                                                 \n",
      " dense_6 (Dense)             (None, 10)                410       \n",
      "                                                                 \n",
      " dense_7 (Dense)             (None, 1)                 11        \n",
      "                                                                 \n",
      "=================================================================\n",
      "Total params: 7,181\n",
      "Trainable params: 7,181\n",
      "Non-trainable params: 0\n",
      "_________________________________________________________________\n"
     ]
    }
   ],
   "source": [
    "# Define the model - deep neural net, i.e., the number of input features and hidden nodes for each layer.\n",
    "nmbr_input_features = len(X_train[0])\n",
    "n_hidden_layer1 = 80\n",
    "n_hidden_layer2 = 40\n",
    "n_hidden_layer3 = 10\n",
    "\n",
    "\n",
    "nn = tf.keras.models.Sequential()\n",
    "\n",
    "# First hidden layer\n",
    "nn.add(tf.keras.layers.Dense(units = n_hidden_layer1, input_dim = nmbr_input_features, activation = \"leaky_relu\"))\n",
    "\n",
    "# Second hidden layer\n",
    "nn.add(tf.keras.layers.Dense(units = n_hidden_layer2, activation = \"leaky_relu\"))\n",
    "\n",
    "# third hidden layer\n",
    "nn.add(tf.keras.layers.Dense(units = n_hidden_layer3, activation = \"leaky_relu\"))\n",
    "\n",
    "\n",
    "# Output layer\n",
    "nn.add(tf.keras.layers.Dense(units = 1, activation = \"sigmoid\"))\n",
    "\n",
    "# Check the structure of the model\n",
    "nn.summary()"
   ]
  },
  {
   "cell_type": "code",
   "execution_count": 15,
   "metadata": {},
   "outputs": [],
   "source": [
    "# Compile the model\n",
    "nn.compile(loss = \"binary_crossentropy\", optimizer = \"adam\", metrics = [\"accuracy\"])"
   ]
  },
  {
   "cell_type": "code",
   "execution_count": 16,
   "metadata": {},
   "outputs": [
    {
     "name": "stdout",
     "output_type": "stream",
     "text": [
      "WARNING:tensorflow:`period` argument is deprecated. Please use `save_freq` to specify the frequency in number of batches seen.\n"
     ]
    }
   ],
   "source": [
    "import os\n",
    "from tensorflow.keras.callbacks import ModelCheckpoint\n",
    "\n",
    "# Define the checkpoint path and filenames\n",
    "os.makedirs(\"checkpoints/\",exist_ok = True)\n",
    "checkpoint_path = \"checkpoints/weights.{epoch:02d}.hdf5\"\n",
    "\n",
    "# Create a callback that saves the model's weights every epoch\n",
    "cp_callback = ModelCheckpoint(\n",
    "    filepath = checkpoint_path,\n",
    "    verbose = 1,\n",
    "    save_weights_only = True,\n",
    "    period = 5)"
   ]
  },
  {
   "cell_type": "code",
   "execution_count": 17,
   "metadata": {},
   "outputs": [
    {
     "name": "stdout",
     "output_type": "stream",
     "text": [
      "Epoch 1/50\n",
      "804/804 [==============================] - 2s 2ms/step - loss: 0.5697 - accuracy: 0.7191\n",
      "Epoch 2/50\n",
      "804/804 [==============================] - 1s 1ms/step - loss: 0.5550 - accuracy: 0.7272\n",
      "Epoch 3/50\n",
      "804/804 [==============================] - 1s 2ms/step - loss: 0.5527 - accuracy: 0.7298\n",
      "Epoch 4/50\n",
      "804/804 [==============================] - 1s 1ms/step - loss: 0.5511 - accuracy: 0.7315\n",
      "Epoch 5/50\n",
      "795/804 [============================>.] - ETA: 0s - loss: 0.5497 - accuracy: 0.7311\n",
      "Epoch 5: saving model to checkpoints\\weights.05.hdf5\n",
      "804/804 [==============================] - 1s 2ms/step - loss: 0.5498 - accuracy: 0.7314\n",
      "Epoch 6/50\n",
      "804/804 [==============================] - 1s 1ms/step - loss: 0.5488 - accuracy: 0.7315\n",
      "Epoch 7/50\n",
      "804/804 [==============================] - 1s 1ms/step - loss: 0.5484 - accuracy: 0.7320\n",
      "Epoch 8/50\n",
      "804/804 [==============================] - 1s 2ms/step - loss: 0.5483 - accuracy: 0.7316\n",
      "Epoch 9/50\n",
      "804/804 [==============================] - 1s 1ms/step - loss: 0.5472 - accuracy: 0.7341\n",
      "Epoch 10/50\n",
      "790/804 [============================>.] - ETA: 0s - loss: 0.5471 - accuracy: 0.7334\n",
      "Epoch 10: saving model to checkpoints\\weights.10.hdf5\n",
      "804/804 [==============================] - 1s 2ms/step - loss: 0.5468 - accuracy: 0.7337\n",
      "Epoch 11/50\n",
      "804/804 [==============================] - 1s 1ms/step - loss: 0.5463 - accuracy: 0.7343\n",
      "Epoch 12/50\n",
      "804/804 [==============================] - 1s 1ms/step - loss: 0.5458 - accuracy: 0.7348\n",
      "Epoch 13/50\n",
      "804/804 [==============================] - 1s 2ms/step - loss: 0.5459 - accuracy: 0.7340\n",
      "Epoch 14/50\n",
      "804/804 [==============================] - 1s 1ms/step - loss: 0.5455 - accuracy: 0.7343\n",
      "Epoch 15/50\n",
      "785/804 [============================>.] - ETA: 0s - loss: 0.5436 - accuracy: 0.7344\n",
      "Epoch 15: saving model to checkpoints\\weights.15.hdf5\n",
      "804/804 [==============================] - 1s 2ms/step - loss: 0.5446 - accuracy: 0.7337\n",
      "Epoch 16/50\n",
      "804/804 [==============================] - 1s 2ms/step - loss: 0.5441 - accuracy: 0.7348\n",
      "Epoch 17/50\n",
      "804/804 [==============================] - 1s 2ms/step - loss: 0.5447 - accuracy: 0.7345\n",
      "Epoch 18/50\n",
      "804/804 [==============================] - 1s 2ms/step - loss: 0.5441 - accuracy: 0.7356\n",
      "Epoch 19/50\n",
      "804/804 [==============================] - 1s 1ms/step - loss: 0.5434 - accuracy: 0.7347\n",
      "Epoch 20/50\n",
      "781/804 [============================>.] - ETA: 0s - loss: 0.5437 - accuracy: 0.7356\n",
      "Epoch 20: saving model to checkpoints\\weights.20.hdf5\n",
      "804/804 [==============================] - 1s 2ms/step - loss: 0.5435 - accuracy: 0.7356\n",
      "Epoch 21/50\n",
      "804/804 [==============================] - 1s 2ms/step - loss: 0.5435 - accuracy: 0.7357\n",
      "Epoch 22/50\n",
      "804/804 [==============================] - 1s 2ms/step - loss: 0.5431 - accuracy: 0.7358\n",
      "Epoch 23/50\n",
      "804/804 [==============================] - 1s 2ms/step - loss: 0.5425 - accuracy: 0.7363\n",
      "Epoch 24/50\n",
      "804/804 [==============================] - 1s 2ms/step - loss: 0.5426 - accuracy: 0.7352\n",
      "Epoch 25/50\n",
      "795/804 [============================>.] - ETA: 0s - loss: 0.5426 - accuracy: 0.7361\n",
      "Epoch 25: saving model to checkpoints\\weights.25.hdf5\n",
      "804/804 [==============================] - 1s 1ms/step - loss: 0.5423 - accuracy: 0.7363\n",
      "Epoch 26/50\n",
      "804/804 [==============================] - 1s 1ms/step - loss: 0.5418 - accuracy: 0.7362\n",
      "Epoch 27/50\n",
      "804/804 [==============================] - 1s 2ms/step - loss: 0.5428 - accuracy: 0.7357\n",
      "Epoch 28/50\n",
      "804/804 [==============================] - 1s 2ms/step - loss: 0.5415 - accuracy: 0.7363\n",
      "Epoch 29/50\n",
      "804/804 [==============================] - 1s 2ms/step - loss: 0.5422 - accuracy: 0.7360\n",
      "Epoch 30/50\n",
      "804/804 [==============================] - ETA: 0s - loss: 0.5416 - accuracy: 0.7371\n",
      "Epoch 30: saving model to checkpoints\\weights.30.hdf5\n",
      "804/804 [==============================] - 1s 2ms/step - loss: 0.5416 - accuracy: 0.7371\n",
      "Epoch 31/50\n",
      "804/804 [==============================] - 1s 2ms/step - loss: 0.5416 - accuracy: 0.7365\n",
      "Epoch 32/50\n",
      "804/804 [==============================] - 1s 2ms/step - loss: 0.5418 - accuracy: 0.7366\n",
      "Epoch 33/50\n",
      "804/804 [==============================] - 1s 2ms/step - loss: 0.5409 - accuracy: 0.7362\n",
      "Epoch 34/50\n",
      "804/804 [==============================] - 1s 2ms/step - loss: 0.5410 - accuracy: 0.7369\n",
      "Epoch 35/50\n",
      "772/804 [===========================>..] - ETA: 0s - loss: 0.5412 - accuracy: 0.7365\n",
      "Epoch 35: saving model to checkpoints\\weights.35.hdf5\n",
      "804/804 [==============================] - 1s 2ms/step - loss: 0.5408 - accuracy: 0.7369\n",
      "Epoch 36/50\n",
      "804/804 [==============================] - 1s 2ms/step - loss: 0.5410 - accuracy: 0.7363\n",
      "Epoch 37/50\n",
      "804/804 [==============================] - 1s 2ms/step - loss: 0.5409 - accuracy: 0.7361\n",
      "Epoch 38/50\n",
      "804/804 [==============================] - 1s 2ms/step - loss: 0.5406 - accuracy: 0.7368\n",
      "Epoch 39/50\n",
      "804/804 [==============================] - 1s 2ms/step - loss: 0.5405 - accuracy: 0.7374\n",
      "Epoch 40/50\n",
      "776/804 [===========================>..] - ETA: 0s - loss: 0.5410 - accuracy: 0.7370\n",
      "Epoch 40: saving model to checkpoints\\weights.40.hdf5\n",
      "804/804 [==============================] - 1s 2ms/step - loss: 0.5405 - accuracy: 0.7370\n",
      "Epoch 41/50\n",
      "804/804 [==============================] - 1s 2ms/step - loss: 0.5403 - accuracy: 0.7364\n",
      "Epoch 42/50\n",
      "804/804 [==============================] - 1s 2ms/step - loss: 0.5402 - accuracy: 0.7371\n",
      "Epoch 43/50\n",
      "804/804 [==============================] - 1s 2ms/step - loss: 0.5400 - accuracy: 0.7374\n",
      "Epoch 44/50\n",
      "804/804 [==============================] - 1s 2ms/step - loss: 0.5401 - accuracy: 0.7368\n",
      "Epoch 45/50\n",
      "801/804 [============================>.] - ETA: 0s - loss: 0.5395 - accuracy: 0.7377\n",
      "Epoch 45: saving model to checkpoints\\weights.45.hdf5\n",
      "804/804 [==============================] - 1s 2ms/step - loss: 0.5395 - accuracy: 0.7379\n",
      "Epoch 46/50\n",
      "804/804 [==============================] - 1s 2ms/step - loss: 0.5394 - accuracy: 0.7368\n",
      "Epoch 47/50\n",
      "804/804 [==============================] - 1s 2ms/step - loss: 0.5394 - accuracy: 0.7369\n",
      "Epoch 48/50\n",
      "804/804 [==============================] - 1s 2ms/step - loss: 0.5397 - accuracy: 0.7376\n",
      "Epoch 49/50\n",
      "804/804 [==============================] - 1s 2ms/step - loss: 0.5396 - accuracy: 0.7369\n",
      "Epoch 50/50\n",
      "791/804 [============================>.] - ETA: 0s - loss: 0.5390 - accuracy: 0.7363\n",
      "Epoch 50: saving model to checkpoints\\weights.50.hdf5\n",
      "804/804 [==============================] - 1s 2ms/step - loss: 0.5393 - accuracy: 0.7365\n"
     ]
    }
   ],
   "source": [
    "# Train the model\n",
    "fit_model = nn.fit(X_train_scaled, y_train,epochs = 50, callbacks = [cp_callback])"
   ]
  },
  {
   "cell_type": "code",
   "execution_count": 18,
   "metadata": {},
   "outputs": [
    {
     "name": "stdout",
     "output_type": "stream",
     "text": [
      "268/268 - 0s - loss: 0.5549 - accuracy: 0.7294 - 415ms/epoch - 2ms/step\n",
      "Loss: 0.5549336671829224, Accuracy: 0.7294460535049438\n"
     ]
    }
   ],
   "source": [
    "# Evaluate the model using the test data\n",
    "model_loss, model_accuracy = nn.evaluate(X_test_scaled,y_test,verbose=2)\n",
    "print(f\"Loss: {model_loss}, Accuracy: {model_accuracy}\")"
   ]
  },
  {
   "cell_type": "code",
   "execution_count": 19,
   "metadata": {},
   "outputs": [],
   "source": [
    "nn.save(\"AlphabetSoupCharity_Optimization.h5\")"
   ]
  }
 ],
 "metadata": {
  "kernelspec": {
   "display_name": "mlenv",
   "language": "python",
   "name": "python3"
  },
  "language_info": {
   "codemirror_mode": {
    "name": "ipython",
    "version": 3
   },
   "file_extension": ".py",
   "mimetype": "text/x-python",
   "name": "python",
   "nbconvert_exporter": "python",
   "pygments_lexer": "ipython3",
   "version": "3.7.13"
  },
  "orig_nbformat": 4
 },
 "nbformat": 4,
 "nbformat_minor": 2
}
